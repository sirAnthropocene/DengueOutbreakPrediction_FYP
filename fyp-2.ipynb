{
 "cells": [
  {
   "cell_type": "code",
   "execution_count": 30,
   "metadata": {},
   "outputs": [
    {
     "name": "stdout",
     "output_type": "stream",
     "text": [
      "<class 'pandas.core.frame.DataFrame'>\n",
      "RangeIndex: 9360 entries, 0 to 9359\n",
      "Data columns (total 12 columns):\n",
      " #   Column           Non-Null Count  Dtype \n",
      "---  ------           --------------  ----- \n",
      " 0   ConditionName    9360 non-null   object\n",
      " 1   ConditionSNOMED  9360 non-null   int64 \n",
      " 2   PathogenName     9360 non-null   object\n",
      " 3   PathogenTaxonID  9360 non-null   int64 \n",
      " 4   Fatalities       9360 non-null   int64 \n",
      " 5   CountryName      9360 non-null   object\n",
      " 6   CountryISO       9360 non-null   object\n",
      " 7   Admin1Name       9360 non-null   object\n",
      " 8   Weeks            9360 non-null   int64 \n",
      " 9   PeriodStartDate  9360 non-null   object\n",
      " 10  PeriodEndDate    9360 non-null   object\n",
      " 11  CountValue       9360 non-null   int64 \n",
      "dtypes: int64(5), object(7)\n",
      "memory usage: 877.6+ KB\n"
     ]
    },
    {
     "data": {
      "text/plain": [
       "(None,\n",
       "   ConditionName  ConditionSNOMED  PathogenName  PathogenTaxonID  Fatalities  \\\n",
       " 0        Dengue         38362002  Dengue virus            12637           0   \n",
       " 1        Dengue         38362002  Dengue virus            12637           0   \n",
       " 2        Dengue         38362002  Dengue virus            12637           0   \n",
       " 3        Dengue         38362002  Dengue virus            12637           0   \n",
       " 4        Dengue         38362002  Dengue virus            12637           0   \n",
       " \n",
       "   CountryName CountryISO Admin1Name  Weeks PeriodStartDate PeriodEndDate  \\\n",
       " 0    MALAYSIA         MY      JOHOR      1        1/1/2010      7/1/2010   \n",
       " 1    MALAYSIA         MY      JOHOR      2        8/1/2010     14/1/2010   \n",
       " 2    MALAYSIA         MY      JOHOR      3       15/1/2010     21/1/2010   \n",
       " 3    MALAYSIA         MY      JOHOR      4       22/1/2010     28/1/2010   \n",
       " 4    MALAYSIA         MY      JOHOR      5       29/1/2010      4/2/2010   \n",
       " \n",
       "    CountValue  \n",
       " 0           2  \n",
       " 1           5  \n",
       " 2           4  \n",
       " 3           6  \n",
       " 4           7  )"
      ]
     },
     "execution_count": 30,
     "metadata": {},
     "output_type": "execute_result"
    }
   ],
   "source": [
    "import pandas as pd\n",
    "\n",
    "# Load the dataset\n",
    "file_path = 'MY.DENGUE.csv'\n",
    "dengue_data = pd.read_csv(file_path)\n",
    "\n",
    "# Display the first few rows of the dataset and its basic information\n",
    "dengue_data_info = dengue_data.info()\n",
    "dengue_data_head = dengue_data.head()\n",
    "\n",
    "dengue_data_info, dengue_data_head\n"
   ]
  },
  {
   "cell_type": "code",
   "execution_count": 32,
   "metadata": {},
   "outputs": [
    {
     "ename": "NameError",
     "evalue": "name 'X_train' is not defined",
     "output_type": "error",
     "traceback": [
      "\u001b[1;31m---------------------------------------------------------------------------\u001b[0m",
      "\u001b[1;31mNameError\u001b[0m                                 Traceback (most recent call last)",
      "Cell \u001b[1;32mIn[32], line 6\u001b[0m\n\u001b[0;32m      4\u001b[0m \u001b[38;5;66;03m# Building the neural network model\u001b[39;00m\n\u001b[0;32m      5\u001b[0m model \u001b[38;5;241m=\u001b[39m Sequential()\n\u001b[1;32m----> 6\u001b[0m model\u001b[38;5;241m.\u001b[39madd(Dense(\u001b[38;5;241m64\u001b[39m, activation\u001b[38;5;241m=\u001b[39m\u001b[38;5;124m'\u001b[39m\u001b[38;5;124mrelu\u001b[39m\u001b[38;5;124m'\u001b[39m, input_shape\u001b[38;5;241m=\u001b[39m(\u001b[43mX_train\u001b[49m\u001b[38;5;241m.\u001b[39mshape[\u001b[38;5;241m1\u001b[39m],)))\n\u001b[0;32m      7\u001b[0m model\u001b[38;5;241m.\u001b[39madd(Dense(\u001b[38;5;241m32\u001b[39m, activation\u001b[38;5;241m=\u001b[39m\u001b[38;5;124m'\u001b[39m\u001b[38;5;124mrelu\u001b[39m\u001b[38;5;124m'\u001b[39m))\n\u001b[0;32m      8\u001b[0m model\u001b[38;5;241m.\u001b[39madd(Dense(\u001b[38;5;241m1\u001b[39m, activation\u001b[38;5;241m=\u001b[39m\u001b[38;5;124m'\u001b[39m\u001b[38;5;124mlinear\u001b[39m\u001b[38;5;124m'\u001b[39m))  \u001b[38;5;66;03m# Output layer for regression\u001b[39;00m\n",
      "\u001b[1;31mNameError\u001b[0m: name 'X_train' is not defined"
     ]
    }
   ],
   "source": [
    "from tensorflow.keras.models import Sequential\n",
    "from tensorflow.keras.layers import Dense\n",
    "\n",
    "# Building the neural network model\n",
    "model = Sequential()\n",
    "model.add(Dense(64, activation='relu', input_shape=(X_train.shape[1],)))\n",
    "model.add(Dense(32, activation='relu'))\n",
    "model.add(Dense(1, activation='linear'))  # Output layer for regression\n",
    "\n",
    "# Compile the model\n",
    "model.compile(optimizer='adam', loss='mean_squared_error')\n",
    "\n",
    "# Train the model\n",
    "history = model.fit(X_train, y_train, epochs=100, batch_size=32, validation_split=0.2, verbose=0)\n",
    "\n",
    "# Summary of the model\n",
    "model.summary()\n"
   ]
  }
 ],
 "metadata": {
  "kernelspec": {
   "display_name": "Python 3",
   "language": "python",
   "name": "python3"
  },
  "language_info": {
   "codemirror_mode": {
    "name": "ipython",
    "version": 3
   },
   "file_extension": ".py",
   "mimetype": "text/x-python",
   "name": "python",
   "nbconvert_exporter": "python",
   "pygments_lexer": "ipython3",
   "version": "3.10.5"
  }
 },
 "nbformat": 4,
 "nbformat_minor": 2
}
